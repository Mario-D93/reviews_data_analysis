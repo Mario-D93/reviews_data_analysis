{
 "cells": [
  {
   "cell_type": "markdown",
   "metadata": {},
   "source": [
    "# 1.) Overview"
   ]
  },
  {
   "cell_type": "code",
   "execution_count": 46,
   "metadata": {},
   "outputs": [],
   "source": [
    "import pandas as pd\n",
    "from pytz import utc\n",
    "from datetime import datetime\n",
    "import math\n",
    "import numpy as np"
   ]
  },
  {
   "cell_type": "code",
   "execution_count": 2,
   "metadata": {},
   "outputs": [],
   "source": [
    "data_reviews = pd.read_csv(\"reviews.csv\",parse_dates=['Timestamp'])"
   ]
  },
  {
   "cell_type": "code",
   "execution_count": 3,
   "metadata": {},
   "outputs": [
    {
     "data": {
      "text/html": [
       "<div>\n",
       "<style scoped>\n",
       "    .dataframe tbody tr th:only-of-type {\n",
       "        vertical-align: middle;\n",
       "    }\n",
       "\n",
       "    .dataframe tbody tr th {\n",
       "        vertical-align: top;\n",
       "    }\n",
       "\n",
       "    .dataframe thead th {\n",
       "        text-align: right;\n",
       "    }\n",
       "</style>\n",
       "<table border=\"1\" class=\"dataframe\">\n",
       "  <thead>\n",
       "    <tr style=\"text-align: right;\">\n",
       "      <th></th>\n",
       "      <th>Course Name</th>\n",
       "      <th>Timestamp</th>\n",
       "      <th>Rating</th>\n",
       "      <th>Comment</th>\n",
       "    </tr>\n",
       "  </thead>\n",
       "  <tbody>\n",
       "    <tr>\n",
       "      <th>0</th>\n",
       "      <td>The Python Mega Course: Build 10 Real World Ap...</td>\n",
       "      <td>2021-04-02 06:25:52+00:00</td>\n",
       "      <td>4.0</td>\n",
       "      <td>NaN</td>\n",
       "    </tr>\n",
       "    <tr>\n",
       "      <th>1</th>\n",
       "      <td>The Python Mega Course: Build 10 Real World Ap...</td>\n",
       "      <td>2021-04-02 05:12:34+00:00</td>\n",
       "      <td>4.0</td>\n",
       "      <td>NaN</td>\n",
       "    </tr>\n",
       "    <tr>\n",
       "      <th>2</th>\n",
       "      <td>The Python Mega Course: Build 10 Real World Ap...</td>\n",
       "      <td>2021-04-02 05:11:03+00:00</td>\n",
       "      <td>4.0</td>\n",
       "      <td>NaN</td>\n",
       "    </tr>\n",
       "    <tr>\n",
       "      <th>3</th>\n",
       "      <td>The Python Mega Course: Build 10 Real World Ap...</td>\n",
       "      <td>2021-04-02 03:33:24+00:00</td>\n",
       "      <td>5.0</td>\n",
       "      <td>NaN</td>\n",
       "    </tr>\n",
       "    <tr>\n",
       "      <th>4</th>\n",
       "      <td>The Python Mega Course: Build 10 Real World Ap...</td>\n",
       "      <td>2021-04-02 03:31:49+00:00</td>\n",
       "      <td>4.5</td>\n",
       "      <td>NaN</td>\n",
       "    </tr>\n",
       "  </tbody>\n",
       "</table>\n",
       "</div>"
      ],
      "text/plain": [
       "                                         Course Name  \\\n",
       "0  The Python Mega Course: Build 10 Real World Ap...   \n",
       "1  The Python Mega Course: Build 10 Real World Ap...   \n",
       "2  The Python Mega Course: Build 10 Real World Ap...   \n",
       "3  The Python Mega Course: Build 10 Real World Ap...   \n",
       "4  The Python Mega Course: Build 10 Real World Ap...   \n",
       "\n",
       "                  Timestamp  Rating Comment  \n",
       "0 2021-04-02 06:25:52+00:00     4.0     NaN  \n",
       "1 2021-04-02 05:12:34+00:00     4.0     NaN  \n",
       "2 2021-04-02 05:11:03+00:00     4.0     NaN  \n",
       "3 2021-04-02 03:33:24+00:00     5.0     NaN  \n",
       "4 2021-04-02 03:31:49+00:00     4.5     NaN  "
      ]
     },
     "execution_count": 3,
     "metadata": {},
     "output_type": "execute_result"
    }
   ],
   "source": [
    "data_reviews.head()"
   ]
  },
  {
   "cell_type": "code",
   "execution_count": 4,
   "metadata": {},
   "outputs": [
    {
     "data": {
      "text/plain": [
       "(45000, 4)"
      ]
     },
     "execution_count": 4,
     "metadata": {},
     "output_type": "execute_result"
    }
   ],
   "source": [
    "data_reviews.shape"
   ]
  },
  {
   "cell_type": "code",
   "execution_count": 23,
   "metadata": {
    "scrolled": true
   },
   "outputs": [
    {
     "data": {
      "text/plain": [
       "array(['The Python Mega Course: Build 10 Real World Applications',\n",
       "       'The Complete Python Course: Build 10 Professional OOP Apps',\n",
       "       '100 Python Exercises I: Evaluate and Improve Your Skills',\n",
       "       'Interactive Data Visualization with Python and Bokeh',\n",
       "       'Python for Beginners with Examples',\n",
       "       'Data Processing with Python',\n",
       "       '100 Python Exercises II: Evaluate and Improve Your Skills',\n",
       "       'Learn GIS in One Hour'], dtype=object)"
      ]
     },
     "execution_count": 23,
     "metadata": {},
     "output_type": "execute_result"
    }
   ],
   "source": [
    "data_reviews['Course Name'].unique()"
   ]
  },
  {
   "cell_type": "code",
   "execution_count": 20,
   "metadata": {},
   "outputs": [
    {
     "data": {
      "text/plain": [
       "array([[<AxesSubplot:title={'center':'Rating'}>]], dtype=object)"
      ]
     },
     "execution_count": 20,
     "metadata": {},
     "output_type": "execute_result"
    },
    {
     "data": {
      "image/png": "[encoded data removed]",
      "text/plain": [
       "<Figure size 432x288 with 1 Axes>"
      ]
     },
     "metadata": {
      "needs_background": "light"
     },
     "output_type": "display_data"
    }
   ],
   "source": [
    "data_reviews.hist(column='Rating')"
   ]
  },
  {
   "cell_type": "markdown",
   "metadata": {},
   "source": [
    "# 2.) Selecting data from the dataframe"
   ]
  },
  {
   "cell_type": "markdown",
   "metadata": {},
   "source": [
    "#### Selecting column"
   ]
  },
  {
   "cell_type": "code",
   "execution_count": 7,
   "metadata": {},
   "outputs": [
    {
     "data": {
      "text/plain": [
       "4.442155555555556"
      ]
     },
     "execution_count": 7,
     "metadata": {},
     "output_type": "execute_result"
    }
   ],
   "source": [
    "mean_rating = data_reviews['Rating'].mean()\n",
    "mean_rating"
   ]
  },
  {
   "cell_type": "code",
   "execution_count": 8,
   "metadata": {},
   "outputs": [
    {
     "data": {
      "text/plain": [
       "4.5"
      ]
     },
     "execution_count": 8,
     "metadata": {},
     "output_type": "execute_result"
    }
   ],
   "source": [
    "median_rating = data_reviews[\"Rating\"].median()\n",
    "median_rating"
   ]
  },
  {
   "cell_type": "markdown",
   "metadata": {},
   "source": [
    "#### Selecting multiple columns"
   ]
  },
  {
   "cell_type": "code",
   "execution_count": 9,
   "metadata": {},
   "outputs": [
    {
     "data": {
      "text/html": [
       "<div>\n",
       "<style scoped>\n",
       "    .dataframe tbody tr th:only-of-type {\n",
       "        vertical-align: middle;\n",
       "    }\n",
       "\n",
       "    .dataframe tbody tr th {\n",
       "        vertical-align: top;\n",
       "    }\n",
       "\n",
       "    .dataframe thead th {\n",
       "        text-align: right;\n",
       "    }\n",
       "</style>\n",
       "<table border=\"1\" class=\"dataframe\">\n",
       "  <thead>\n",
       "    <tr style=\"text-align: right;\">\n",
       "      <th></th>\n",
       "      <th>Course Name</th>\n",
       "      <th>Rating</th>\n",
       "    </tr>\n",
       "  </thead>\n",
       "  <tbody>\n",
       "    <tr>\n",
       "      <th>0</th>\n",
       "      <td>The Python Mega Course: Build 10 Real World Ap...</td>\n",
       "      <td>4.0</td>\n",
       "    </tr>\n",
       "    <tr>\n",
       "      <th>1</th>\n",
       "      <td>The Python Mega Course: Build 10 Real World Ap...</td>\n",
       "      <td>4.0</td>\n",
       "    </tr>\n",
       "    <tr>\n",
       "      <th>2</th>\n",
       "      <td>The Python Mega Course: Build 10 Real World Ap...</td>\n",
       "      <td>4.0</td>\n",
       "    </tr>\n",
       "    <tr>\n",
       "      <th>3</th>\n",
       "      <td>The Python Mega Course: Build 10 Real World Ap...</td>\n",
       "      <td>5.0</td>\n",
       "    </tr>\n",
       "    <tr>\n",
       "      <th>4</th>\n",
       "      <td>The Python Mega Course: Build 10 Real World Ap...</td>\n",
       "      <td>4.5</td>\n",
       "    </tr>\n",
       "  </tbody>\n",
       "</table>\n",
       "</div>"
      ],
      "text/plain": [
       "                                         Course Name  Rating\n",
       "0  The Python Mega Course: Build 10 Real World Ap...     4.0\n",
       "1  The Python Mega Course: Build 10 Real World Ap...     4.0\n",
       "2  The Python Mega Course: Build 10 Real World Ap...     4.0\n",
       "3  The Python Mega Course: Build 10 Real World Ap...     5.0\n",
       "4  The Python Mega Course: Build 10 Real World Ap...     4.5"
      ]
     },
     "execution_count": 9,
     "metadata": {},
     "output_type": "execute_result"
    }
   ],
   "source": [
    "two_columns = data_reviews[['Course Name', 'Rating']]\n",
    "two_columns.head()"
   ]
  },
  {
   "cell_type": "markdown",
   "metadata": {},
   "source": [
    "#### Selecting row"
   ]
  },
  {
   "cell_type": "code",
   "execution_count": 10,
   "metadata": {},
   "outputs": [
    {
     "data": {
      "text/plain": [
       "Course Name    The Python Mega Course: Build 10 Real World Ap...\n",
       "Timestamp                              2021-04-02 03:33:24+00:00\n",
       "Rating                                                       5.0\n",
       "Comment                                                      NaN\n",
       "Name: 3, dtype: object"
      ]
     },
     "execution_count": 10,
     "metadata": {},
     "output_type": "execute_result"
    }
   ],
   "source": [
    "single_row = data_reviews.iloc[3]\n",
    "single_row"
   ]
  },
  {
   "cell_type": "markdown",
   "metadata": {},
   "source": [
    "#### Selecting multiple rows"
   ]
  },
  {
   "cell_type": "code",
   "execution_count": 28,
   "metadata": {},
   "outputs": [
    {
     "data": {
      "text/html": [
       "<div>\n",
       "<style scoped>\n",
       "    .dataframe tbody tr th:only-of-type {\n",
       "        vertical-align: middle;\n",
       "    }\n",
       "\n",
       "    .dataframe tbody tr th {\n",
       "        vertical-align: top;\n",
       "    }\n",
       "\n",
       "    .dataframe thead th {\n",
       "        text-align: right;\n",
       "    }\n",
       "</style>\n",
       "<table border=\"1\" class=\"dataframe\">\n",
       "  <thead>\n",
       "    <tr style=\"text-align: right;\">\n",
       "      <th></th>\n",
       "      <th>Course Name</th>\n",
       "      <th>Timestamp</th>\n",
       "      <th>Rating</th>\n",
       "      <th>Comment</th>\n",
       "    </tr>\n",
       "  </thead>\n",
       "  <tbody>\n",
       "    <tr>\n",
       "      <th>1</th>\n",
       "      <td>The Python Mega Course: Build 10 Real World Ap...</td>\n",
       "      <td>2021-04-02 05:12:34+00:00</td>\n",
       "      <td>4.0</td>\n",
       "      <td>NaN</td>\n",
       "    </tr>\n",
       "    <tr>\n",
       "      <th>2</th>\n",
       "      <td>The Python Mega Course: Build 10 Real World Ap...</td>\n",
       "      <td>2021-04-02 05:11:03+00:00</td>\n",
       "      <td>4.0</td>\n",
       "      <td>NaN</td>\n",
       "    </tr>\n",
       "    <tr>\n",
       "      <th>3</th>\n",
       "      <td>The Python Mega Course: Build 10 Real World Ap...</td>\n",
       "      <td>2021-04-02 03:33:24+00:00</td>\n",
       "      <td>5.0</td>\n",
       "      <td>NaN</td>\n",
       "    </tr>\n",
       "  </tbody>\n",
       "</table>\n",
       "</div>"
      ],
      "text/plain": [
       "                                         Course Name  \\\n",
       "1  The Python Mega Course: Build 10 Real World Ap...   \n",
       "2  The Python Mega Course: Build 10 Real World Ap...   \n",
       "3  The Python Mega Course: Build 10 Real World Ap...   \n",
       "\n",
       "                  Timestamp  Rating Comment  \n",
       "1 2021-04-02 05:12:34+00:00     4.0     NaN  \n",
       "2 2021-04-02 05:11:03+00:00     4.0     NaN  \n",
       "3 2021-04-02 03:33:24+00:00     5.0     NaN  "
      ]
     },
     "execution_count": 28,
     "metadata": {},
     "output_type": "execute_result"
    }
   ],
   "source": [
    "#multiple_rows = data_reviews.iloc[[1,4,8,9]]\n",
    "multiple_rows = data_reviews.iloc[1:4]\n",
    "multiple_rows"
   ]
  },
  {
   "cell_type": "markdown",
   "metadata": {},
   "source": [
    "#### Selecting a specifc cell"
   ]
  },
  {
   "cell_type": "code",
   "execution_count": 12,
   "metadata": {},
   "outputs": [
    {
     "data": {
      "text/plain": [
       "Timestamp('2021-04-02 03:33:24+0000', tz='UTC')"
      ]
     },
     "execution_count": 12,
     "metadata": {},
     "output_type": "execute_result"
    }
   ],
   "source": [
    "cell = data_reviews['Timestamp'].iloc[3]\n",
    "cell"
   ]
  },
  {
   "cell_type": "code",
   "execution_count": 13,
   "metadata": {},
   "outputs": [
    {
     "data": {
      "text/plain": [
       "Timestamp('2021-04-02 03:33:24+0000', tz='UTC')"
      ]
     },
     "execution_count": 13,
     "metadata": {},
     "output_type": "execute_result"
    }
   ],
   "source": [
    "cell_2 = data_reviews.at[3,'Timestamp']\n",
    "cell_2"
   ]
  },
  {
   "cell_type": "markdown",
   "metadata": {},
   "source": [
    "# 3.) Filtering data based on conditions"
   ]
  },
  {
   "cell_type": "markdown",
   "metadata": {},
   "source": [
    "#### One condition"
   ]
  },
  {
   "cell_type": "code",
   "execution_count": 14,
   "metadata": {},
   "outputs": [
    {
     "data": {
      "text/plain": [
       "Course Name    38873\n",
       "Timestamp      38873\n",
       "Rating         38873\n",
       "Comment         5911\n",
       "dtype: int64"
      ]
     },
     "execution_count": 14,
     "metadata": {},
     "output_type": "execute_result"
    }
   ],
   "source": [
    "positive_reviews = data_reviews[data_reviews['Rating'] >= 4 ].count()\n",
    "positive_reviews"
   ]
  },
  {
   "cell_type": "code",
   "execution_count": 15,
   "metadata": {},
   "outputs": [
    {
     "data": {
      "text/plain": [
       "15.20592699302858"
      ]
     },
     "execution_count": 15,
     "metadata": {},
     "output_type": "execute_result"
    }
   ],
   "source": [
    "percantage_comments = positive_reviews['Comment'] / (positive_reviews['Course Name']/100)\n",
    "percantage_comments"
   ]
  },
  {
   "cell_type": "markdown",
   "metadata": {},
   "source": [
    "#### Multiple Conditions"
   ]
  },
  {
   "cell_type": "code",
   "execution_count": 16,
   "metadata": {},
   "outputs": [],
   "source": [
    "course_name = 'Data Processing with Python'"
   ]
  },
  {
   "cell_type": "code",
   "execution_count": 30,
   "metadata": {},
   "outputs": [
    {
     "data": {
      "text/html": [
       "<div>\n",
       "<style scoped>\n",
       "    .dataframe tbody tr th:only-of-type {\n",
       "        vertical-align: middle;\n",
       "    }\n",
       "\n",
       "    .dataframe tbody tr th {\n",
       "        vertical-align: top;\n",
       "    }\n",
       "\n",
       "    .dataframe thead th {\n",
       "        text-align: right;\n",
       "    }\n",
       "</style>\n",
       "<table border=\"1\" class=\"dataframe\">\n",
       "  <thead>\n",
       "    <tr style=\"text-align: right;\">\n",
       "      <th></th>\n",
       "      <th>Course Name</th>\n",
       "      <th>Timestamp</th>\n",
       "      <th>Rating</th>\n",
       "      <th>Comment</th>\n",
       "    </tr>\n",
       "  </thead>\n",
       "  <tbody>\n",
       "    <tr>\n",
       "      <th>121</th>\n",
       "      <td>Data Processing with Python</td>\n",
       "      <td>2021-03-29 11:16:36+00:00</td>\n",
       "      <td>5.0</td>\n",
       "      <td>NaN</td>\n",
       "    </tr>\n",
       "    <tr>\n",
       "      <th>214</th>\n",
       "      <td>Data Processing with Python</td>\n",
       "      <td>2021-03-25 15:17:11+00:00</td>\n",
       "      <td>5.0</td>\n",
       "      <td>NaN</td>\n",
       "    </tr>\n",
       "    <tr>\n",
       "      <th>367</th>\n",
       "      <td>Data Processing with Python</td>\n",
       "      <td>2021-03-20 14:58:40+00:00</td>\n",
       "      <td>5.0</td>\n",
       "      <td>NaN</td>\n",
       "    </tr>\n",
       "    <tr>\n",
       "      <th>396</th>\n",
       "      <td>Data Processing with Python</td>\n",
       "      <td>2021-03-19 11:46:46+00:00</td>\n",
       "      <td>4.5</td>\n",
       "      <td>NaN</td>\n",
       "    </tr>\n",
       "    <tr>\n",
       "      <th>1005</th>\n",
       "      <td>Data Processing with Python</td>\n",
       "      <td>2021-02-26 10:25:30+00:00</td>\n",
       "      <td>5.0</td>\n",
       "      <td>NaN</td>\n",
       "    </tr>\n",
       "    <tr>\n",
       "      <th>...</th>\n",
       "      <td>...</td>\n",
       "      <td>...</td>\n",
       "      <td>...</td>\n",
       "      <td>...</td>\n",
       "    </tr>\n",
       "    <tr>\n",
       "      <th>44660</th>\n",
       "      <td>Data Processing with Python</td>\n",
       "      <td>2018-01-07 22:23:21+00:00</td>\n",
       "      <td>5.0</td>\n",
       "      <td>NaN</td>\n",
       "    </tr>\n",
       "    <tr>\n",
       "      <th>44715</th>\n",
       "      <td>Data Processing with Python</td>\n",
       "      <td>2018-01-06 19:40:30+00:00</td>\n",
       "      <td>5.0</td>\n",
       "      <td>Concise and neat, covered important practices....</td>\n",
       "    </tr>\n",
       "    <tr>\n",
       "      <th>44806</th>\n",
       "      <td>Data Processing with Python</td>\n",
       "      <td>2018-01-04 22:39:42+00:00</td>\n",
       "      <td>5.0</td>\n",
       "      <td>NaN</td>\n",
       "    </tr>\n",
       "    <tr>\n",
       "      <th>44954</th>\n",
       "      <td>Data Processing with Python</td>\n",
       "      <td>2018-01-01 23:36:07+00:00</td>\n",
       "      <td>4.5</td>\n",
       "      <td>might have had a mac installation tutorial also</td>\n",
       "    </tr>\n",
       "    <tr>\n",
       "      <th>44993</th>\n",
       "      <td>Data Processing with Python</td>\n",
       "      <td>2018-01-01 01:22:21+00:00</td>\n",
       "      <td>5.0</td>\n",
       "      <td>NaN</td>\n",
       "    </tr>\n",
       "  </tbody>\n",
       "</table>\n",
       "<p>496 rows × 4 columns</p>\n",
       "</div>"
      ],
      "text/plain": [
       "                       Course Name                 Timestamp  Rating  \\\n",
       "121    Data Processing with Python 2021-03-29 11:16:36+00:00     5.0   \n",
       "214    Data Processing with Python 2021-03-25 15:17:11+00:00     5.0   \n",
       "367    Data Processing with Python 2021-03-20 14:58:40+00:00     5.0   \n",
       "396    Data Processing with Python 2021-03-19 11:46:46+00:00     4.5   \n",
       "1005   Data Processing with Python 2021-02-26 10:25:30+00:00     5.0   \n",
       "...                            ...                       ...     ...   \n",
       "44660  Data Processing with Python 2018-01-07 22:23:21+00:00     5.0   \n",
       "44715  Data Processing with Python 2018-01-06 19:40:30+00:00     5.0   \n",
       "44806  Data Processing with Python 2018-01-04 22:39:42+00:00     5.0   \n",
       "44954  Data Processing with Python 2018-01-01 23:36:07+00:00     4.5   \n",
       "44993  Data Processing with Python 2018-01-01 01:22:21+00:00     5.0   \n",
       "\n",
       "                                                 Comment  \n",
       "121                                                  NaN  \n",
       "214                                                  NaN  \n",
       "367                                                  NaN  \n",
       "396                                                  NaN  \n",
       "1005                                                 NaN  \n",
       "...                                                  ...  \n",
       "44660                                                NaN  \n",
       "44715  Concise and neat, covered important practices....  \n",
       "44806                                                NaN  \n",
       "44954    might have had a mac installation tutorial also  \n",
       "44993                                                NaN  \n",
       "\n",
       "[496 rows x 4 columns]"
      ]
     },
     "execution_count": 30,
     "metadata": {},
     "output_type": "execute_result"
    }
   ],
   "source": [
    "df_data_procesessing = data_reviews[(data_reviews['Rating'] > 4) & (data_reviews['Course Name'] == course_name)]\n",
    "df_data_procesessing"
   ]
  },
  {
   "cell_type": "code",
   "execution_count": 18,
   "metadata": {},
   "outputs": [
    {
     "data": {
      "text/plain": [
       "4.842741935483871"
      ]
     },
     "execution_count": 18,
     "metadata": {},
     "output_type": "execute_result"
    }
   ],
   "source": [
    "rating = df_data_procesessing['Rating'].mean()\n",
    "rating"
   ]
  },
  {
   "cell_type": "markdown",
   "metadata": {},
   "source": [
    "# 4.) Filtering my dates"
   ]
  },
  {
   "cell_type": "code",
   "execution_count": 19,
   "metadata": {},
   "outputs": [
    {
     "data": {
      "text/html": [
       "<div>\n",
       "<style scoped>\n",
       "    .dataframe tbody tr th:only-of-type {\n",
       "        vertical-align: middle;\n",
       "    }\n",
       "\n",
       "    .dataframe tbody tr th {\n",
       "        vertical-align: top;\n",
       "    }\n",
       "\n",
       "    .dataframe thead th {\n",
       "        text-align: right;\n",
       "    }\n",
       "</style>\n",
       "<table border=\"1\" class=\"dataframe\">\n",
       "  <thead>\n",
       "    <tr style=\"text-align: right;\">\n",
       "      <th></th>\n",
       "      <th>Course Name</th>\n",
       "      <th>Timestamp</th>\n",
       "      <th>Rating</th>\n",
       "      <th>Comment</th>\n",
       "    </tr>\n",
       "  </thead>\n",
       "  <tbody>\n",
       "    <tr>\n",
       "      <th>57</th>\n",
       "      <td>The Python Mega Course: Build 10 Real World Ap...</td>\n",
       "      <td>2021-03-31 08:41:48+00:00</td>\n",
       "      <td>2.0</td>\n",
       "      <td>Coding is awful confusing. Loads of weird stuf...</td>\n",
       "    </tr>\n",
       "    <tr>\n",
       "      <th>64</th>\n",
       "      <td>The Python Mega Course: Build 10 Real World Ap...</td>\n",
       "      <td>2021-03-31 05:50:51+00:00</td>\n",
       "      <td>2.5</td>\n",
       "      <td>NaN</td>\n",
       "    </tr>\n",
       "    <tr>\n",
       "      <th>103</th>\n",
       "      <td>100 Python Exercises I: Evaluate and Improve Y...</td>\n",
       "      <td>2021-03-29 19:21:12+00:00</td>\n",
       "      <td>1.0</td>\n",
       "      <td>NaN</td>\n",
       "    </tr>\n",
       "    <tr>\n",
       "      <th>115</th>\n",
       "      <td>The Python Mega Course: Build 10 Real World Ap...</td>\n",
       "      <td>2021-03-29 13:25:50+00:00</td>\n",
       "      <td>1.0</td>\n",
       "      <td>NaN</td>\n",
       "    </tr>\n",
       "    <tr>\n",
       "      <th>162</th>\n",
       "      <td>The Complete Python Course: Build 10 Professio...</td>\n",
       "      <td>2021-03-27 13:30:15+00:00</td>\n",
       "      <td>1.0</td>\n",
       "      <td>NaN</td>\n",
       "    </tr>\n",
       "    <tr>\n",
       "      <th>...</th>\n",
       "      <td>...</td>\n",
       "      <td>...</td>\n",
       "      <td>...</td>\n",
       "      <td>...</td>\n",
       "    </tr>\n",
       "    <tr>\n",
       "      <th>30828</th>\n",
       "      <td>The Python Mega Course: Build 10 Real World Ap...</td>\n",
       "      <td>2019-01-03 07:52:04+00:00</td>\n",
       "      <td>1.5</td>\n",
       "      <td>NaN</td>\n",
       "    </tr>\n",
       "    <tr>\n",
       "      <th>30849</th>\n",
       "      <td>The Python Mega Course: Build 10 Real World Ap...</td>\n",
       "      <td>2019-01-02 22:04:13+00:00</td>\n",
       "      <td>2.0</td>\n",
       "      <td>NaN</td>\n",
       "    </tr>\n",
       "    <tr>\n",
       "      <th>30877</th>\n",
       "      <td>Python for Beginners with Examples</td>\n",
       "      <td>2019-01-02 08:51:22+00:00</td>\n",
       "      <td>2.0</td>\n",
       "      <td>NaN</td>\n",
       "    </tr>\n",
       "    <tr>\n",
       "      <th>30907</th>\n",
       "      <td>The Python Mega Course: Build 10 Real World Ap...</td>\n",
       "      <td>2019-01-01 15:49:27+00:00</td>\n",
       "      <td>2.5</td>\n",
       "      <td>NaN</td>\n",
       "    </tr>\n",
       "    <tr>\n",
       "      <th>30920</th>\n",
       "      <td>100 Python Exercises I: Evaluate and Improve Y...</td>\n",
       "      <td>2019-01-01 05:06:22+00:00</td>\n",
       "      <td>2.5</td>\n",
       "      <td>NaN</td>\n",
       "    </tr>\n",
       "  </tbody>\n",
       "</table>\n",
       "<p>797 rows × 4 columns</p>\n",
       "</div>"
      ],
      "text/plain": [
       "                                             Course Name  \\\n",
       "57     The Python Mega Course: Build 10 Real World Ap...   \n",
       "64     The Python Mega Course: Build 10 Real World Ap...   \n",
       "103    100 Python Exercises I: Evaluate and Improve Y...   \n",
       "115    The Python Mega Course: Build 10 Real World Ap...   \n",
       "162    The Complete Python Course: Build 10 Professio...   \n",
       "...                                                  ...   \n",
       "30828  The Python Mega Course: Build 10 Real World Ap...   \n",
       "30849  The Python Mega Course: Build 10 Real World Ap...   \n",
       "30877                 Python for Beginners with Examples   \n",
       "30907  The Python Mega Course: Build 10 Real World Ap...   \n",
       "30920  100 Python Exercises I: Evaluate and Improve Y...   \n",
       "\n",
       "                      Timestamp  Rating  \\\n",
       "57    2021-03-31 08:41:48+00:00     2.0   \n",
       "64    2021-03-31 05:50:51+00:00     2.5   \n",
       "103   2021-03-29 19:21:12+00:00     1.0   \n",
       "115   2021-03-29 13:25:50+00:00     1.0   \n",
       "162   2021-03-27 13:30:15+00:00     1.0   \n",
       "...                         ...     ...   \n",
       "30828 2019-01-03 07:52:04+00:00     1.5   \n",
       "30849 2019-01-02 22:04:13+00:00     2.0   \n",
       "30877 2019-01-02 08:51:22+00:00     2.0   \n",
       "30907 2019-01-01 15:49:27+00:00     2.5   \n",
       "30920 2019-01-01 05:06:22+00:00     2.5   \n",
       "\n",
       "                                                 Comment  \n",
       "57     Coding is awful confusing. Loads of weird stuf...  \n",
       "64                                                   NaN  \n",
       "103                                                  NaN  \n",
       "115                                                  NaN  \n",
       "162                                                  NaN  \n",
       "...                                                  ...  \n",
       "30828                                                NaN  \n",
       "30849                                                NaN  \n",
       "30877                                                NaN  \n",
       "30907                                                NaN  \n",
       "30920                                                NaN  \n",
       "\n",
       "[797 rows x 4 columns]"
      ]
     },
     "execution_count": 19,
     "metadata": {},
     "output_type": "execute_result"
    }
   ],
   "source": [
    "year_2020 = data_reviews[\n",
    "    (data_reviews['Timestamp'] > datetime(2018,12,31, tzinfo=utc)) &\n",
    "    (data_reviews['Timestamp'] < datetime(2021,6,30, tzinfo = utc)) &\n",
    "    (data_reviews['Rating'] < 3) \n",
    "    #& (type(data_reviews['Comment']) is float)\n",
    "]\n",
    "\n",
    "\n",
    "year_2020"
   ]
  },
  {
   "cell_type": "markdown",
   "metadata": {},
   "source": [
    "# Data analysis"
   ]
  },
  {
   "cell_type": "code",
   "execution_count": 37,
   "metadata": {},
   "outputs": [
    {
     "data": {
      "text/html": [
       "<div>\n",
       "<style scoped>\n",
       "    .dataframe tbody tr th:only-of-type {\n",
       "        vertical-align: middle;\n",
       "    }\n",
       "\n",
       "    .dataframe tbody tr th {\n",
       "        vertical-align: top;\n",
       "    }\n",
       "\n",
       "    .dataframe thead th {\n",
       "        text-align: right;\n",
       "    }\n",
       "</style>\n",
       "<table border=\"1\" class=\"dataframe\">\n",
       "  <thead>\n",
       "    <tr style=\"text-align: right;\">\n",
       "      <th></th>\n",
       "      <th>Course Name</th>\n",
       "      <th>Timestamp</th>\n",
       "      <th>Rating</th>\n",
       "      <th>Comment</th>\n",
       "    </tr>\n",
       "  </thead>\n",
       "  <tbody>\n",
       "    <tr>\n",
       "      <th>0</th>\n",
       "      <td>The Python Mega Course: Build 10 Real World Ap...</td>\n",
       "      <td>2021-04-02 06:25:52+00:00</td>\n",
       "      <td>4.0</td>\n",
       "      <td>NaN</td>\n",
       "    </tr>\n",
       "    <tr>\n",
       "      <th>1</th>\n",
       "      <td>The Python Mega Course: Build 10 Real World Ap...</td>\n",
       "      <td>2021-04-02 05:12:34+00:00</td>\n",
       "      <td>4.0</td>\n",
       "      <td>NaN</td>\n",
       "    </tr>\n",
       "    <tr>\n",
       "      <th>2</th>\n",
       "      <td>The Python Mega Course: Build 10 Real World Ap...</td>\n",
       "      <td>2021-04-02 05:11:03+00:00</td>\n",
       "      <td>4.0</td>\n",
       "      <td>NaN</td>\n",
       "    </tr>\n",
       "    <tr>\n",
       "      <th>3</th>\n",
       "      <td>The Python Mega Course: Build 10 Real World Ap...</td>\n",
       "      <td>2021-04-02 03:33:24+00:00</td>\n",
       "      <td>5.0</td>\n",
       "      <td>NaN</td>\n",
       "    </tr>\n",
       "    <tr>\n",
       "      <th>4</th>\n",
       "      <td>The Python Mega Course: Build 10 Real World Ap...</td>\n",
       "      <td>2021-04-02 03:31:49+00:00</td>\n",
       "      <td>4.5</td>\n",
       "      <td>NaN</td>\n",
       "    </tr>\n",
       "  </tbody>\n",
       "</table>\n",
       "</div>"
      ],
      "text/plain": [
       "                                         Course Name  \\\n",
       "0  The Python Mega Course: Build 10 Real World Ap...   \n",
       "1  The Python Mega Course: Build 10 Real World Ap...   \n",
       "2  The Python Mega Course: Build 10 Real World Ap...   \n",
       "3  The Python Mega Course: Build 10 Real World Ap...   \n",
       "4  The Python Mega Course: Build 10 Real World Ap...   \n",
       "\n",
       "                  Timestamp  Rating Comment  \n",
       "0 2021-04-02 06:25:52+00:00     4.0     NaN  \n",
       "1 2021-04-02 05:12:34+00:00     4.0     NaN  \n",
       "2 2021-04-02 05:11:03+00:00     4.0     NaN  \n",
       "3 2021-04-02 03:33:24+00:00     5.0     NaN  \n",
       "4 2021-04-02 03:31:49+00:00     4.5     NaN  "
      ]
     },
     "execution_count": 37,
     "metadata": {},
     "output_type": "execute_result"
    }
   ],
   "source": [
    "data_reviews.head()"
   ]
  },
  {
   "cell_type": "code",
   "execution_count": 38,
   "metadata": {},
   "outputs": [
    {
     "name": "stdout",
     "output_type": "stream",
     "text": [
      "(45000, 4)\n"
     ]
    }
   ],
   "source": [
    "print(data_reviews.shape)"
   ]
  },
  {
   "cell_type": "markdown",
   "metadata": {},
   "source": [
    "### Average rating"
   ]
  },
  {
   "cell_type": "code",
   "execution_count": 40,
   "metadata": {},
   "outputs": [
    {
     "data": {
      "text/plain": [
       "4.442155555555556"
      ]
     },
     "execution_count": 40,
     "metadata": {},
     "output_type": "execute_result"
    }
   ],
   "source": [
    "average_rating = data_reviews['Rating'].mean()\n",
    "average_rating"
   ]
  },
  {
   "cell_type": "code",
   "execution_count": 50,
   "metadata": {},
   "outputs": [
    {
     "name": "stderr",
     "output_type": "stream",
     "text": [
      "<ipython-input-50-a0ecace00e07>:7: FutureWarning: DataFrame.mean and DataFrame.median with numeric_only=None will include datetime64 and datetime64tz columns in a future version.\n",
      "  avg_rating = (data_reviews[data_reviews['Course Name'] == course]).mean()\n"
     ]
    },
    {
     "name": "stdout",
     "output_type": "stream",
     "text": [
      "The course: The Python Mega Course: Build 10 Real World Applications, has average rating: Rating    4.47727\n",
      "dtype: float64\n",
      "The course: The Complete Python Course: Build 10 Professional OOP Apps, has average rating: Rating    4.623404\n",
      "dtype: float64\n",
      "The course: 100 Python Exercises I: Evaluate and Improve Your Skills, has average rating: Rating    4.323603\n",
      "dtype: float64\n",
      "The course: Interactive Data Visualization with Python and Bokeh, has average rating: Rating    4.275098\n",
      "dtype: float64\n",
      "The course: Python for Beginners with Examples, has average rating: Rating    4.300975\n",
      "dtype: float64\n",
      "The course: Data Processing with Python, has average rating: Rating    4.237327\n",
      "dtype: float64\n",
      "The course: 100 Python Exercises II: Evaluate and Improve Your Skills, has average rating: Rating    4.519643\n",
      "dtype: float64\n",
      "The course: Learn GIS in One Hour, has average rating: Rating    4.071142\n",
      "dtype: float64\n"
     ]
    }
   ],
   "source": [
    "unique_course_arr = data_reviews['Course Name'].unique()\n",
    "#unique_course is numpy array -> converting it to a list object:\n",
    "\n",
    "unique_course = unique_course_arr.tolist()\n",
    "\n",
    "for course in unique_course:\n",
    "    avg_rating = (data_reviews[data_reviews['Course Name'] == course]).mean()\n",
    "    print(f\"The course: {course}, has average rating: {avg_rating}\")"
   ]
  },
  {
   "cell_type": "markdown",
   "metadata": {},
   "source": [
    "### Average rating for the highest reviewed course"
   ]
  },
  {
   "cell_type": "code",
   "execution_count": 58,
   "metadata": {},
   "outputs": [
    {
     "data": {
      "text/plain": [
       "4.623404255319149"
      ]
     },
     "execution_count": 58,
     "metadata": {},
     "output_type": "execute_result"
    }
   ],
   "source": [
    "highest_score = data_reviews[data_reviews['Course Name'] == 'The Complete Python Course: Build 10 Professional OOP Apps']['Rating'].mean()\n",
    "highest_score"
   ]
  },
  {
   "cell_type": "markdown",
   "metadata": {},
   "source": [
    "### Average rating for particular period"
   ]
  },
  {
   "cell_type": "code",
   "execution_count": 62,
   "metadata": {},
   "outputs": [
    {
     "data": {
      "text/plain": [
       "4.455367847411444"
      ]
     },
     "execution_count": 62,
     "metadata": {},
     "output_type": "execute_result"
    }
   ],
   "source": [
    "#2019 - 2020\n",
    "avg_rating_one_year = data_reviews[(data_reviews['Course Name'] == 'The Python Mega Course: Build 10 Real World Applications') & \n",
    "                                   (data_reviews['Timestamp'] > datetime(2018,12,31,tzinfo = utc)) &\n",
    "                                    (data_reviews['Timestamp'] <= datetime(2019,12,31,tzinfo = utc))\n",
    "                                  ]['Rating'].mean()\n",
    "avg_rating_one_year"
   ]
  },
  {
   "cell_type": "markdown",
   "metadata": {},
   "source": [
    "### Average ratings of commented and uncommented reviews"
   ]
  },
  {
   "cell_type": "code",
   "execution_count": 72,
   "metadata": {},
   "outputs": [
    {
     "data": {
      "text/plain": [
       "4.489777908515959"
      ]
     },
     "execution_count": 72,
     "metadata": {},
     "output_type": "execute_result"
    }
   ],
   "source": [
    "avg_commented = data_reviews[data_reviews['Comment'].notnull()]['Rating'].mean()\n",
    "avg_commented"
   ]
  },
  {
   "cell_type": "code",
   "execution_count": 75,
   "metadata": {},
   "outputs": [
    {
     "data": {
      "text/plain": [
       "4.433679746603492"
      ]
     },
     "execution_count": 75,
     "metadata": {},
     "output_type": "execute_result"
    }
   ],
   "source": [
    "avg_uncommented = data_reviews[data_reviews['Comment'].isnull()]['Rating'].mean()\n",
    "avg_uncommented"
   ]
  },
  {
   "cell_type": "code",
   "execution_count": 76,
   "metadata": {},
   "outputs": [],
   "source": [
    "# Average rating of commented reviews is higher than uncommented"
   ]
  },
  {
   "cell_type": "markdown",
   "metadata": {},
   "source": [
    "### Number of uncommented reviews"
   ]
  },
  {
   "cell_type": "code",
   "execution_count": 78,
   "metadata": {},
   "outputs": [
    {
     "data": {
      "text/plain": [
       "38201"
      ]
     },
     "execution_count": 78,
     "metadata": {},
     "output_type": "execute_result"
    }
   ],
   "source": [
    "uncommented_rev = len(data_reviews[data_reviews['Comment'].isnull()])\n",
    "uncommented_rev"
   ]
  },
  {
   "cell_type": "code",
   "execution_count": 83,
   "metadata": {},
   "outputs": [
    {
     "data": {
      "text/plain": [
       "6799"
      ]
     },
     "execution_count": 83,
     "metadata": {},
     "output_type": "execute_result"
    }
   ],
   "source": [
    "commented_rev = data_reviews[data_reviews['Comment'].notnull()]['Course Name'].count()\n",
    "commented_rev"
   ]
  },
  {
   "cell_type": "markdown",
   "metadata": {},
   "source": [
    "### Reviews containing a specific word"
   ]
  },
  {
   "cell_type": "code",
   "execution_count": 98,
   "metadata": {},
   "outputs": [
    {
     "name": "stdout",
     "output_type": "stream",
     "text": [
      "\n",
      "The course is great but because of the instructor's accent, the subtitles are terrible.\n",
      "\n",
      "\n",
      "Sometimes it is difficult to understand the instructor's accent. So far I am not sure if there is enough depth, but that could change\n",
      "\n",
      "\n",
      "A little trouble at first with the accent, but I adjusted quickly. Overall I like his honesty and willingness to talk about errors\n",
      "\n",
      "\n",
      "I was looking for some time for the good Python course for beginners and I wanted to find something with real projects in it. After checking the contents and reviews of the courses I decided to choose this course. First I was concerned about the strange accent of the trainer but after few lectures, I got used to it and it's actually really clear English. Way that Ardit is explaining things is really clear, he is also going forward in quite slow tempo at the beginning which is good, later on he is speeding up and so does the knowledge of the student as well. Don't skip the basics -section at the beginning even if you pass the test. These lectures are really good even if you know something about Python. There's theory and then exercises that are supporting the theory. And structure is really well built. Now I have done few projects and it seems that in this course you will learn the basics and also what you can do with Python. And then later on you can focus on the areas that you want to learn more. Only minus is that some of the recordings are quite old (from 2015-2016 I believe). But if something has changed since, then there's usually comments in the course that tell what has changed since the recording was made. Also some sections have been added afterwards to support the course. So far this is the best Udemy course that I have done. And I have done around 10 in the past.\n",
      "\n",
      "\n",
      "I am having trouble seeing the video and he is speaking with an accent a little too fast.  But so far, very interesting.\n",
      "\n",
      "\n",
      "Its difficult to understand Ardit sometimes.  He has a really heavy accent.  Maybe he should just write the script and have someone else say it!  That would REALLY help\n",
      "\n",
      "\n",
      "Overall great course, it's just the accent throws me off sometimes\n",
      "\n",
      "\n",
      "A complete beginner with zero coding knowledge or experience.  This course is perfect for an adult learner like myself.  It starts & progresses in a logical manner.  I really like the exercises which check your knowledge.  I was reluctant to sign up for this course because of the instructor's accent, but not an issue.  Of the 2 Python courses I signed up for - this one is far & away a better course.\n",
      "\n",
      "\n",
      "Very well explained and everything is spot on. Best course I've done so far and I've done a few! And I love his accent.! Well done Ardit.\n",
      "\n",
      "\n",
      "yes my experience is great,,,just having a lil difficulty with the accent,,, but apart from that the tutor is great\n",
      "\n",
      "\n",
      "Great course from Ardit! You will get use to his accent. If not, there is subtitles. People often complain that he codes along his explanation so that people can't really get challenged to practice.... Just you guys use your brain (assuming you have one) and pause the video? Anyway, planing on buying more courses from the author.\n",
      "\n",
      "\n",
      "It's very amazing that not only the basics are explained, but we can use the knowledge by creating applications.\n",
      "Only strange thing is the accent of the presenter, how he is saying \"pfythooon\" :D. It's funny.\n",
      "\n",
      "\n",
      "the course is very good but the teacher speak a very strange English accent that not easy for listening!\n",
      "\n",
      "\n",
      "It is a good course but I struggle at times due to the teacher's accent.  That and he tends to vary his voice volume at times.  There are spans where he's talking normally and then transitions to almost a mumble and then back to normal, making it hard to understand.  (Mumbles way too often while trying to figure out what he's doing.  It's gotten to be quite annoying.)\n",
      "\n",
      "\n",
      "It is simple and very informative. Only a minor issue with the friendly teacher's slight accent that can occasionally be tricky to understand.\n",
      "\n",
      "\n",
      "trouble understanding accent\n",
      "\n",
      "\n",
      "yes, it is amazing and a brilliant course for beginners. although the accent is a little hard to comprehend. but overall an amazing course\n",
      "\n",
      "\n",
      "Amazing course, well thought out, numerous coding \"hacks\" - if you are looking for your first python course, take this one, I took other courses, none reached this level.\n",
      "\n",
      "Ardit accent is noticeable, but I couldn't care less, because I'm so into what he teachs, that\n",
      "\n",
      "\n",
      "The heavy accent of the instructor makes him a bit difficult to follow.\n",
      "\n",
      "\n",
      "Love this guy! His accent is awesome and he has really thought about beginners.\n",
      "\n",
      "\n",
      "The teacher has an accent, but he is very easy to understand. Clear and concise instructions save time while teaching you what you need to know without the unnecessary chatter that a lot of web videos have.\n",
      "\n",
      "\n",
      "His flat, monotone, non-engaging delivery with his thick accent put me to sleep too many times. I thought I had a sleep disorder.\n",
      "\n",
      "\n",
      "The title of this course is missleading, it should be \" Watch me just do and try to learn on your own\" The course is preety amaturely presented, there is no explanation from the teacher who often jumps from one subject to another  without explaining the theory behind the  matterial correctly and in depth, up untill the first project all goes well then he jumps from 0 to 100 so to speak and  just starts typing away commands with zero explanation, impossible to learn like this. Furthermore  there are no exercises!!! When the courses get's into more advanced stuff, he films on the spot while he writes code and you have to pause the video and copy what he does and back and forth, there is no way of learning something like this!!! This gets really boring fast!!! He should first present something simple and then provide exercises for the student to work on his own!! I have to mention the terrible accent and deep draging voice of the teacher that makes it even more boring and difficult to understand the lessons, it's more suitable for a hypnotist but he cannot help it I guess. Try another Course.\n",
      "\n",
      "\n",
      "Teacher speaks too fast and has an accent\n",
      "\n",
      "\n",
      "accent is bit hard to understand otherwise its good\n",
      "\n",
      "\n",
      "Yes, great course so far.  Ardit tackles Python in a good way that is different from other tutors as he doesn't start at raw basics like x == y .. he uses real world programs then dissects the program into it's core components line for line.   For me, this is very helpful as I can relate the course content to real world output.  I can see how the programs start, end and how they are put together.  You don't necessarily need to understand everything, but starting with the whole concept and breaking it down is nice.  Ardit's accent is a little unusual at first - but I know English isn't his first language but his English is very good so no problem, just takes a few lectures to understand the phonetics.  So, Ardit uses real-world teaching methods and contextualises the course content so we are working in a more practical way.\n",
      "Just to update .. Ardit has since updated the course and it is even better!  I'd like to mention that for me, if I play Ardit talking at 1.5x this is perfect.  In fact it makes his short lectures so much on point it really is probably the best lecture type course I am currently busy with.  I'm doing many Python courses just now and Ardit is one of my top 3 lecturers.  Again, because the course is broken down into short manageable videos that are action specific and there are many short practice tasks/quizzes/exercises that are key.  So many courses get the questions too complicated and end up making the student frustrated.  Ardit avoids this and his course is perfect watched at 1.5 x speed.  Awesome stuff!\n",
      "\n",
      "I'd also like to add, I find his explanations and development of both front end and back end simple and clear.  What I really enjoy is how Ardit stays on point with his teaching direction.  We don't jump from topic to topic endlessly and needlessly.  We walk through the programs from start until completion and I'm learning so much about all the stages of development I'm thoroughly enjoying his presentation.  Can't wait for Ardits next course so I can finish that too.  Thank you Ardit, great man!\n",
      "\n",
      "\n",
      "everythings good, one thing that really keeps my attention is his accent :)\n",
      "\n",
      "\n",
      "This course is definetly not for beginners. Basics are superficial, and when creating apps he uses stuff that doesnt even mentioned previously and doesn't explain them properly. Also his accent is sometimes hard to understand.\n",
      "\n",
      "\n",
      "pretty good so far, this is my first course. only con is the presenters accent can be hard to understand sometimes\n",
      "\n",
      "\n",
      "A bit slow. Thick accent. Many typos as he works, poorly written script. He often seems surprised when the code he is teaching doesn't work and he has to debug it.\n",
      "\n",
      "\n",
      "The accent is difficult to understand\n",
      "\n",
      "\n",
      "Good teacher, good topics, funny accent rs\n",
      "\n",
      "\n",
      "Seems like good information so far but the accent takes some getting used to, to understand (ex. \"Comand line\" sounds more like \"Comment line\").\n",
      "\n",
      "\n",
      "Overall, pretty good. But he rushes through things sometimes and his accent is sometimes hard to understand. Googling might be necessary to sometimes fully understand what he is trying to teach you\n",
      "\n",
      "\n",
      "This is not how a course quality should be. The course is novel in the sense that there is no other course on Bokeh, but totally disappointed. Udemy should be having some quality check on the courses that are uploaded. I not talking from the audio and accent point of view though that is pretty iffy most of the times.\n",
      "\n",
      "\n",
      "The content is great but I'm having trouble understanding his speech. I speak English as my native language. With his heavy accent and monotone voice, I'm only able to pick up a word occasionally. I have a background in programming many other computer languages, so reading the sample code allows me to understand the concepts being presented somewhat. If his voice was clear, it would improve the course tremendously,\n",
      "\n",
      "\n",
      "Things I don't like about this course:\n",
      "\n",
      "1. The instructor keeps repeating very obvious things, giving me the impression that he doesn't have in mind what he was about to say. He also comes back and forth a lot when explaining the code so it feels disorganized.\n",
      "\n",
      "2. The bad smell of his code. Just look at the final code of app 1, why repeating the \"get_close_matches()\" several times when you can wrap it up in a variable or function? As a programmer myself, I simply can't stand poor code like this.\n",
      "\n",
      "3. The instructor's accent. It's even more irritating for me given that he keeps talking about unimportant things.\n",
      "\n",
      "Things I like about this course (the only thing that still keeps me learning despite all things I don't like):\n",
      "\n",
      "1. It successfully shows the broadness of what Python can do.\n",
      "\n",
      "\n",
      "The projects are okay, but the instructor is hard to understand due to his heavy accent.\n",
      "\n",
      "\n",
      "I finished this course and this is my review.\n",
      "I skipped (more like fast running) through all the basis because I am not a beginner to Python.  It took me more than a month to finish this.\n",
      "My opinion: this course is perfect for someone who's just learned basis and want to make further use with Python.\n",
      "This course teaches real applications such as web apps, web crawling, even automatic emailing,... which are really mainstream useful in real-life.\n",
      "About the number \"10\", actually I would call them \"skills\" more than \"applications\" because they are small-scaled and probably a small function of a real-life application.\n",
      "My tips when you consider buying this course:\n",
      "1. Learn ahead Python as much as possible.\n",
      "2. Get used to finding solutions on google.\n",
      "3. turn speed of video to 1.5x if you feel frustrated by slow-speaker like me, :p  The teacher is German (as I guess) and he has some small accent (words like \"hour\" or \"Linux\") in it but wholly speaking his communication is more than fine. \n",
      "4. He has a really nice and active assistant and a lot of helpful learners in the course, so, take advantage of the Q&A even when you pass the lesson, still read a bit and see some worth-reading comments. This section is not only for asking, but sharing as well.\n",
      "\n",
      "\n",
      "The mentor has a wierd accent which is not understandable. Also he doesn’t stick to a particular tooic while explaining concepts. He mixes too many concepts together which makes it quite difficult to understand.\n",
      "\n",
      "\n",
      "I like his accent, keeps me focused lol. He is very detailed and explains line by line what happening in each code project. He has two work spaces open, on the left is the project code, and the right is a terminal. He runs lines and examples in terminal. I have a work space open as well that I keep floating above his so that I can run code and experiment as well.\n",
      "\n",
      "\n",
      "apart from accent everything is good. good job, just accent takes me some time to understand the lecture\n",
      "\n",
      "\n",
      "Your accent is a bit difficult to understand. But when you get used to it you are damn good. Its so easily taught by you.\n",
      "You sir are Awesome !!\n",
      "\n",
      "\n",
      "The instructor's accent is hard to understand.\n",
      "\n",
      "\n",
      "So far I am very excited to continue . Even though the instructor has an accent he is easy to follow.\n",
      "\n",
      "\n",
      "the course is very well explained, and the exercises are very helpful.\n",
      "the only thing bothering me is the lecturer's accent, which is not his fault and is something i have to deal with.\n",
      "\n",
      "\n",
      "I can follow the instructor very well. His accent is no problem althought I occassionally miss a word.\n",
      "\n",
      "\n",
      "hard to understand the accent at times\n",
      "\n",
      "\n",
      "Python is my first programming language (except VB), and I was afraid. Ardit made it easy and understandable and now I am ready to try, if I cannot, with google and stackoverflow , and I am not so much afraid of CMD line and making errors. \n",
      "This package what he is showing is huge and I don't need them all. I'm interested in data analysis and webscraping and sql, not as much in flask. But this is all useful, and it was money well spent :) \n",
      "I don't know why someone complains about the accent, try a Vietnamese...or an American.. :)\n",
      "Thanks.\n",
      "\n",
      "\n",
      "I've already learned Python basics and some Pandas from Ardit, so I was fine with a little review at the beginning. \n",
      "I found the content very useful and I'm happy to have taken this course. I will use the content hopefully during work. \n",
      "Ardit has a nice manner and a pretty understandable accent compared to e.g. an US instructor (eg. I learned from Nick Parlante, and his accent is very heavy for me).\n",
      "One thing: more practice would be great.\n",
      "Thanks for that!\n",
      "\n",
      "\n",
      "Strong accent , takes time to get comfortable. I appreciate the instructor trying hard to sound good\n",
      "\n",
      "\n",
      "I'm working through four beginner python courses that I purchased from udemy. The slight accent alarmed me at first, but once I adjusted the explanations were excellent and helped me make sense of some concepts I couldn't quite comprehend in the other lectures.  This is a fantastic course.\n",
      "\n",
      "\n",
      "Had fun having this course, even if you don't get some some initial lectures at glance, later on, they're self explained.\n",
      "\n",
      "The accent is good enough to understand for people who actually don't speak English as a native language (even without subtitles/captions).\n",
      "\n",
      "What you won't find here are: Hints to problems that you can only find&solve through making enhancements to the real-world-apps or making your own; though is not the objective of this course, I think Ardit's fast responses can help (y)\n",
      "\n",
      "\n",
      "The accent can be hard to understand at times. There are a few concepts he doesn't explain thoroughly when presented that would make it harder to understand the lesson if I didn't already have experience with python\n",
      "\n",
      "\n",
      "The english accent is sometimes not clear. You have children playing in the brackground that is disturbing sometimes.\n",
      "\n",
      "\n",
      "So far this is right up my alley expertise-wise. I've been having a slight difficulty with the instructor's accent, but turning on closed captioning has been helpful.\n",
      "\n",
      "\n",
      "Are you guys serious?  Udemy QA levels must be very low.  The guy's accent is very thick and at times unintelligible.  Can believe I have 22 hours of this....\n",
      "\n",
      "\n",
      "The accent is hard to interpret\n",
      "\n",
      "\n",
      "Content is really good and presented in such a matter that makes it easy to understand and follow - I just struggle with the accent every now and then :)\n",
      "\n",
      "\n",
      "good but it is difficult to understand the accent.\n",
      "\n",
      "\n",
      "The accent takes some getting used to but aside from that it's been great so far\n",
      "\n",
      "\n",
      "Great hands on tutorials that teach me to access many other resources on the web. As well as real life Python , programming problem solutions. There is immediate response to questions. Ardit also keeps updating the lessons and comes up with more resources so actually you are joining a community.\n",
      "I did need to get used to his accent and the English, but it was worth it.\n",
      "\n",
      "\n",
      "This course makes for an awesome jump, from the beginner/entry level courses to buulding actual applications. I started Python on Codeacademy (excellent course, definitely recommended) and continued to Michele Pratusevich's \"Practice Python\" blog. After finishing those, I was still struggling to understand how to make something actually useful in Python. This course taught me many things I wanted to know (graphic interfaces, creating executables etc) and many more that I didn't know I wanted to know(Image Proccesing, Face Recognition, Databases, Working with Websites etc)! As for the course itself, it's being kept up to date continuously. Also Ardit really does read and answer every question in a reasonable timeframe. \n",
      "\n",
      "I understand that I wasn't a complete beginner when I started the course and my previous \"experience\" did help me, but even if you are starting from scratch you can actually learn everything without prior knowledge, especially with the recent addition of extra lessons at the start of the course.\n",
      "\n",
      "I didn't gave 5 stars simply because I believe that there is always room for improvement. Nothing specific to complain, just sayin'. I did ran the whole course at 1.25-1.5 speed, as I found the pace a llittle slow, but it's definetely not Ardit's fault, he's not a native speaker. With that being said, I find his accent good enough, although other people seem to disagree.\n",
      "\n",
      "All in all, this course helped me to get a firm grasp on Python. I wish all the best to Ardit and I look forward to his next course.\n",
      "\n",
      "\n",
      "It is hard to understand certain words he says due to a heavy accent.\n",
      "\n",
      "\n",
      "I'm currently taking the Python Mega Course, and am extremely pleased with the quality of the content available in this work. It's exercise based, and the author actually encourages you to pause and try out the code for yourself to understand what your learning. My only negative complaint is his accent seems a bit foreign for an English course, though you can still comprehend everything he says.\n",
      "\n",
      "\n",
      "Introduction videos informative and well presented.\n",
      "Having trouble following the heavy English accent (but getting used to it!!)\n",
      "\n",
      "\n",
      "sometimes it's hard for me to follow the lector's accent. Also when explaining list, sets, etc. I don't think it's thorough to the degree of really understanding the concepts and distinguishing among those concepts.\n",
      "\n",
      "\n",
      "At first I thought I might have trouble understanding with the accent, however, it very quickly became a non-issue and it was very easy to follow.  The course so far, deep into section 2, is very comparable in quality to classes I've taken on Lynda.com but without the higher costs.\n",
      "\n",
      "--Update:  I've reached deep into the course now after a few weeks and maintain my review of 5 stars for Ardit's course.  The value you will receive is well worth the small investment of money and time.  Should you purchase the course while it is on sale, I think you will agree that it is a steal!  If you are looking to get into Python or are already a seasoned developer, you should strongly consider this course and all that it has to offer.\n",
      "\n",
      "\n",
      "I have almost finished the course (211/250 lesson). I really enjoy the course. \n",
      "\n",
      "The biggest plus of the course is that it is focused on real life usage. First you get theory and after that you quickly get an example how to use that theoretic knowledge in practice.\n",
      "\n",
      "I also like the course tempo and depth of explanation.\n",
      "\n",
      "In the begging tutor's accent was a bit distracting for me, but Ardit (tutor) knows English very well so I quickly got used to his accent. \n",
      "\n",
      "Good job Ardit. I really want more courses like that!\n",
      "\n",
      "\n",
      "The English accent is a bit hard to follow\n",
      "\n",
      "\n",
      "the course was short and sweet. it helped me go through the basics really well.\n",
      "\n",
      "only the accent of the instructor was difficult to understand.\n",
      "\n",
      "\n",
      "Haven't completed the course yet but the instructor does not feel like engaging the audience. English is not my first language either but his accent make the course a bit harder and discourage the student\n",
      "\n",
      "\n",
      "Please find the English review below!\n",
      "\n",
      "Dieser Kurs bietet eine kurze, knackige Zusammenfassung der Python Grundlagen. Außerdem wird eines der Kernelemente von Python häufig in Szene gesetzt und ihre Wichtigkeit unterstrichen: Bibliotheken! Man erhält dadurch einen kurzen Einblick in die unzähligen Möglichkeiten, die einem diese Programmiersprache verschafft. Nichts desto trotz wird es notwendig sein, sich mit den einzelnen Teilen näher auseinanderzusetzen. Der Kurs gibt zumindest eine gute Richtung vor.\n",
      "\n",
      "Empfehlen würde ich den Kurs dennoch tatsächlich eher Personen, die bereits Programmiererfahrung haben. Die hohe Geschwindigkeit des Kurses und der Akzent des Dozenten sind nicht jedermanns Sache. Der Inhalt ist zwar relativ linear aufgebaut, aber dennoch wirken manche Teile etwas verloren. Mehr Details und Kontext sind wünschenswert.\n",
      "\n",
      "------------------------------------------------------------------\n",
      "\n",
      "This course provides a short and firm summary of Python fundamentals. In addition, one of Python's core elements is often mentioned and its importance underlined: libraries! This gives you a brief insight into the countless possibilities of this programming language. Nevertheless, a closer look at the different parts is inevitable. But the course offers a good starting point.\n",
      "\n",
      "I would rather recommend this course to people who already have programming experience. The high pace of the course and the accent of the lecturer may be problematic. The content is relatively linear, but some parts seem a bit lost. More details and context are desirable.\n",
      "\n",
      "\n",
      "HIGHLY RECOMMEND THIS COURSE! BUT PLEASE READ THE REST OF THE REVIEW!\n",
      "\n",
      "This is a phenomenal course for anyone who wants to learn Python, but also wants to apply this language to real life applications. \n",
      "\n",
      "Being a newbie to Python (background in PHP), I want to learn all the possible uses of Python before I decide the type of Python programming that I would like to specialize in. This course will give you a broad understanding of the capabilities of Python. \n",
      "\n",
      "If you read the negative reviews of this course, you will see that people all have the same comment; the course does not go in depth with topics.\n",
      "\n",
      "If there you have a specific need, or are looking to peel off all the layers that Python has to offer, this course if not for you. I would highly recommend looking at other courses that are geared towards what you are looking to accomplish (Web Design, Data Analysis, etc). \n",
      "\n",
      "I've had instructors in other courses that were extremely difficult to follow along.  This instructor has a German (I think?) accent, but you can definitely understand him. \n",
      "\n",
      "What makes this course great is that he gives you quizzes in between important topics, which give you a better understanding of where you're at in the course. He will also outline areas that he feels you should revisit. \n",
      "\n",
      "He also gives you exercises, that are a bit challenging. I highly recommend you take the time to try the exercises, especially if you are a newbie to programming. \n",
      "\n",
      "You need to get into the mindset of a developer, and be able to put what you've learned to the test. You won't have an instructor telling you how to do something in the real world, and the only way you get better is by practicing. What you get out of this, or any course, is based on how much you put in. This is the best advice I can give.\n",
      "\n",
      "Hope this review helps! Enjoy!\n",
      "\n",
      "\n",
      "This is a really nice course for beginners who want to know how GIS works and especially how to QGIS. Overall the course covers a lot of points well.\n",
      "The only thing that one should concern is, if you are going to depend *solely* on subtitles to understand what the instructor is saying, then you'll not understand anything as the subtitles are auto-generated and are really terrible.\n",
      "Even though I understood the course without using subtitles, at some points I could not understand his accent (it was usually in the theory part, but practicals are easy to understand, so don't worry). \n",
      "\n",
      "Otherwise this course is excellent!! Nicely explained. I would definitely recommend it for not just beginners but at all levels, cause *this course covers basics in GIS very well* Thanks Ardit for clearing the basic concepts in the best possible way!\n",
      "\n",
      "\n",
      "Speakers accent was a bit difficult for me to understand at times.\n",
      "\n",
      "\n",
      "First course that actually covers everything you need to know for a beginner without being confusing or long winded.  Heavy accent but you get used to it after a few minutes.\n",
      "\n"
     ]
    }
   ],
   "source": [
    "# word: accent\n",
    "accent = data_reviews[(data_reviews['Comment'].notnull())&\n",
    "             (data_reviews['Comment'].str.contains('accent'))\n",
    "            ]\n",
    "for i in accent['Comment']:\n",
    "    print(f\"\")\n",
    "    print(f\"{i}\\n\")\n",
    "    print"
   ]
  },
  {
   "cell_type": "markdown",
   "metadata": {},
   "source": [
    "### Average comment rating with a specific word"
   ]
  },
  {
   "cell_type": "code",
   "execution_count": 106,
   "metadata": {},
   "outputs": [
    {
     "data": {
      "text/plain": [
       "3.8636363636363638"
      ]
     },
     "execution_count": 106,
     "metadata": {},
     "output_type": "execute_result"
    }
   ],
   "source": [
    "# word: accent\n",
    "tst = data_reviews[data_reviews['Comment'].str.contains('accent',na=False)]['Rating'].mean()\n",
    "tst"
   ]
  },
  {
   "cell_type": "code",
   "execution_count": null,
   "metadata": {},
   "outputs": [],
   "source": []
  }
 ],
 "metadata": {
  "kernelspec": {
   "display_name": "Python 3",
   "language": "python",
   "name": "python3"
  },
  "language_info": {
   "codemirror_mode": {
    "name": "ipython",
    "version": 3
   },
   "file_extension": ".py",
   "mimetype": "text/x-python",
   "name": "python",
   "nbconvert_exporter": "python",
   "pygments_lexer": "ipython3",
   "version": "3.8.10"
  }
 },
 "nbformat": 4,
 "nbformat_minor": 4
}
